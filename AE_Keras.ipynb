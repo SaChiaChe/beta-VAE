{
 "cells": [
  {
   "cell_type": "markdown",
   "metadata": {},
   "source": [
    "# Autoencoder  Keras implementation"
   ]
  },
  {
   "cell_type": "code",
   "execution_count": 93,
   "metadata": {},
   "outputs": [],
   "source": [
    "import os\n",
    "import numpy as np\n",
    "import keras\n",
    "from keras.models import Sequential\n",
    "from keras.layers import Dense, LeakyReLU"
   ]
  },
  {
   "cell_type": "markdown",
   "metadata": {},
   "source": [
    "### Define the Autoencoder"
   ]
  },
  {
   "cell_type": "code",
   "execution_count": 61,
   "metadata": {},
   "outputs": [],
   "source": [
    "# The encoder template\n",
    "def Encoder():\n",
    "    Model = Sequential()\n",
    "    \n",
    "    # You can modify the architecture for your own design\n",
    "    # The following is just a simple example\n",
    "    Model.add(Dense(512, input_shape=(1024,)))\n",
    "    Model.add(LeakyReLU())\n",
    "    \n",
    "    Model.add(Dense(128, input_shape=(1024,)))\n",
    "    Model.add(LeakyReLU())\n",
    "    \n",
    "    return Model"
   ]
  },
  {
   "cell_type": "code",
   "execution_count": 62,
   "metadata": {},
   "outputs": [],
   "source": [
    "# The decoder template\n",
    "def Decoder(EncoderModel):\n",
    "    Model = EncoderModel\n",
    "    \n",
    "    # You can modify the architecture for your own design\n",
    "    # The following is just a simple example\n",
    "    Model.add(Dense(512, input_shape=(1024,)))\n",
    "    Model.add(LeakyReLU())\n",
    "    \n",
    "    Model.add(Dense(1024))\n",
    "    Model.add(LeakyReLU())\n",
    "    \n",
    "    return Model"
   ]
  },
  {
   "cell_type": "code",
   "execution_count": 63,
   "metadata": {},
   "outputs": [],
   "source": [
    "# The full autoencoder\n",
    "def Autoencoder():\n",
    "    Model = Decoder(Encoder())\n",
    "    \n",
    "    # You can modify the following for your own design\n",
    "    Model.compile(loss='mse', optimizer='adam', metrics=['mse'])\n",
    "    \n",
    "    return Model"
   ]
  },
  {
   "cell_type": "markdown",
   "metadata": {},
   "source": [
    "### Build the Autoencoder"
   ]
  },
  {
   "cell_type": "code",
   "execution_count": 64,
   "metadata": {
    "collapsed": true
   },
   "outputs": [
    {
     "name": "stdout",
     "output_type": "stream",
     "text": [
      "_________________________________________________________________\n",
      "Layer (type)                 Output Shape              Param #   \n",
      "=================================================================\n",
      "dense_25 (Dense)             (None, 512)               524800    \n",
      "_________________________________________________________________\n",
      "leaky_re_lu_15 (LeakyReLU)   (None, 512)               0         \n",
      "_________________________________________________________________\n",
      "dense_26 (Dense)             (None, 128)               65664     \n",
      "_________________________________________________________________\n",
      "leaky_re_lu_16 (LeakyReLU)   (None, 128)               0         \n",
      "_________________________________________________________________\n",
      "dense_27 (Dense)             (None, 512)               66048     \n",
      "_________________________________________________________________\n",
      "leaky_re_lu_17 (LeakyReLU)   (None, 512)               0         \n",
      "_________________________________________________________________\n",
      "dense_28 (Dense)             (None, 1024)              525312    \n",
      "_________________________________________________________________\n",
      "leaky_re_lu_18 (LeakyReLU)   (None, 1024)              0         \n",
      "=================================================================\n",
      "Total params: 1,181,824\n",
      "Trainable params: 1,181,824\n",
      "Non-trainable params: 0\n",
      "_________________________________________________________________\n",
      "None\n"
     ]
    }
   ],
   "source": [
    "Encoder_ = Encoder()\n",
    "AE = Autoencoder()\n",
    "print(AE.summary())"
   ]
  },
  {
   "cell_type": "markdown",
   "metadata": {},
   "source": [
    "### Generate some toy data"
   ]
  },
  {
   "cell_type": "code",
   "execution_count": 65,
   "metadata": {
    "scrolled": false
   },
   "outputs": [
    {
     "name": "stdout",
     "output_type": "stream",
     "text": [
      "[[0.40480142 0.63155229 0.86176384 ... 0.54392087 0.07860133 0.34563289]\n",
      " [0.25742657 0.80863109 0.4202688  ... 0.2935815  0.77106573 0.04882767]\n",
      " [0.21861738 0.46088109 0.46667054 ... 0.00685809 0.47038047 0.05452987]\n",
      " ...\n",
      " [0.15834633 0.62135311 0.23446863 ... 0.73204376 0.12853852 0.97432662]\n",
      " [0.19075531 0.47284416 0.79549493 ... 0.50759263 0.99006404 0.77960858]\n",
      " [0.57437831 0.571262   0.18986724 ... 0.3009963  0.19421348 0.092414  ]]\n"
     ]
    }
   ],
   "source": [
    "Data = np.random.rand(100, 1024)\n",
    "print(Data)"
   ]
  },
  {
   "cell_type": "markdown",
   "metadata": {},
   "source": [
    "### Fit the Autoencoder"
   ]
  },
  {
   "cell_type": "code",
   "execution_count": 92,
   "metadata": {
    "scrolled": false
   },
   "outputs": [
    {
     "name": "stdout",
     "output_type": "stream",
     "text": [
      "Epoch 1/5\n",
      "100/100 [==============================] - 0s 239us/step - loss: 0.0027 - mean_squared_error: 0.0027\n",
      "Epoch 2/5\n",
      "100/100 [==============================] - 0s 249us/step - loss: 0.0028 - mean_squared_error: 0.0028\n",
      "Epoch 3/5\n",
      "100/100 [==============================] - 0s 249us/step - loss: 0.0027 - mean_squared_error: 0.0027\n",
      "Epoch 4/5\n",
      "100/100 [==============================] - 0s 269us/step - loss: 0.0028 - mean_squared_error: 0.0028\n",
      "Epoch 5/5\n",
      "100/100 [==============================] - 0s 260us/step - loss: 0.0029 - mean_squared_error: 0.0029\n"
     ]
    },
    {
     "data": {
      "text/plain": [
       "<keras.callbacks.History at 0x1f8ed406dd8>"
      ]
     },
     "execution_count": 92,
     "metadata": {},
     "output_type": "execute_result"
    }
   ],
   "source": [
    "AE.fit(Data, Data, epochs=5)"
   ]
  },
  {
   "cell_type": "markdown",
   "metadata": {},
   "source": [
    "### Save model"
   ]
  },
  {
   "cell_type": "code",
   "execution_count": 56,
   "metadata": {},
   "outputs": [],
   "source": [
    "Encoder_.save(\"AE_Encoder_Keras.hdf5\")\n",
    "AE.save(\"AE_Keras.hdf5\")"
   ]
  }
 ],
 "metadata": {
  "kernelspec": {
   "display_name": "Python 3",
   "language": "python",
   "name": "python3"
  },
  "language_info": {
   "codemirror_mode": {
    "name": "ipython",
    "version": 3
   },
   "file_extension": ".py",
   "mimetype": "text/x-python",
   "name": "python",
   "nbconvert_exporter": "python",
   "pygments_lexer": "ipython3",
   "version": "3.7.3"
  }
 },
 "nbformat": 4,
 "nbformat_minor": 2
}
